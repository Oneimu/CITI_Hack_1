{
 "cells": [
  {
   "cell_type": "markdown",
   "metadata": {},
   "source": [
    "# Extracting files from zip into the JupyterNotebook\n"
   ]
  },
  {
   "cell_type": "code",
   "execution_count": null,
   "metadata": {},
   "outputs": [],
   "source": [
    "\n",
    "from zipfile import ZipFile\n",
    "\n",
    "file_name = r\"C:\\Users\\Lucky Abolorunke\\Downloads\\hackathon.zip\"\n",
    "with ZipFile(file_name, 'r') as zip:\n",
    "    zip.printdir()\n",
    "    zip.extractall()\n",
    " \n",
    "    "
   ]
  },
  {
   "cell_type": "markdown",
   "metadata": {},
   "source": [
    "# importation of models\n"
   ]
  },
  {
   "cell_type": "code",
   "execution_count": 173,
   "metadata": {},
   "outputs": [],
   "source": [
    "import cv2\n",
    "import os, io\n",
    "from google.cloud import vision\n",
    "from google import type\n",
    "import pandas as pd\n",
    "\n",
    "os.environ['GOOGLE_APPLICATION_CREDENTIALS'] = r\"C:\\Users\\Lucky Abolorunke\\Downloads\\ServiceAccountToken.json\""
   ]
  },
  {
   "cell_type": "markdown",
   "metadata": {},
   "source": [
    "# extract the names of the files"
   ]
  },
  {
   "cell_type": "code",
   "execution_count": 408,
   "metadata": {},
   "outputs": [
    {
     "data": {
      "text/plain": [
       "104"
      ]
     },
     "execution_count": 408,
     "metadata": {},
     "output_type": "execute_result"
    }
   ],
   "source": [
    "image_names = []\n",
    "invalid_image = [ '7mill.jpg', '10-05.jpg', '42001.jpg', 'blankcheck.jpg', 'blankcheck2.jpg', 'five.jpg', 'onemillthree.jpg']\n",
    "\n",
    "for num in range(1, 71):\n",
    "    name = \"check_{}.png\".format(num)\n",
    "    image_names.append(name)\n",
    "image_names.extend(invalid_image)  \n",
    "for num in range(11, 38):\n",
    "    name = \"image_{}.jpg\".format(num)\n",
    "    image_names.append(name)\n",
    "len(image_names)    \n"
   ]
  },
  {
   "cell_type": "markdown",
   "metadata": {},
   "source": [
    "# these lines of code is use to crop three areas of interest that are in the cheque, this includes Date, amount in words, and amount in figues; \n",
    "# the crop images are save to a directory on my PC; reasons for cropping is to prevent noise."
   ]
  },
  {
   "cell_type": "code",
   "execution_count": 350,
   "metadata": {},
   "outputs": [],
   "source": [
    "\n",
    "def CropSaveImage(file_name, left, height, right, bottom):\n",
    "    \n",
    "    originalImage = cv2.imread(file_name)\n",
    "    img = Image.fromarray(originalImage)\n",
    "    #the cropped image\n",
    "    xxd = img.crop((left, height, right, bottom))\n",
    "    return xxd \n",
    "\n"
   ]
  },
  {
   "cell_type": "markdown",
   "metadata": {},
   "source": [
    "# Save Cropped copies "
   ]
  },
  {
   "cell_type": "code",
   "execution_count": 435,
   "metadata": {},
   "outputs": [],
   "source": [
    "def SaveCrop(list_names, f):\n",
    "    for name in list_names:\n",
    "        \n",
    "        try:\n",
    "            file_name = f.format(name)\n",
    "\n",
    "            if name[-3:] == 'jpg':\n",
    "                date_crop = CropSaveImage(file_name, 1230, 120, 1700, 225)\n",
    "                date_crop.save(r\"C:\\Users\\Lucky Abolorunke\\Desktop\\citi_folder\\date_{}\".format(name))\n",
    "\n",
    "                #save the crop amount in figures\n",
    "                figure_crop = CropSaveImage(file_name, 1490, 280, 1850, 400)\n",
    "                figure_crop.save(r\"C:\\Users\\Lucky Abolorunke\\Desktop\\citi_folder\\figure_{}\".format(name))\n",
    "\n",
    "                #save the cropped of the amount in words\n",
    "                text_crop = CropSaveImage(file_name, 50, 365, 1450, 500)\n",
    "                text_crop.save(r\"C:\\Users\\Lucky Abolorunke\\Desktop\\citi_folder\\text_{}\".format(name))\n",
    "            else:\n",
    "                date_crop = CropSaveImage(file_name, 700, 100, 1124, 160)\n",
    "                date_crop.save(r\"C:\\Users\\Lucky Abolorunke\\Desktop\\citi_folder\\date_{}\".format(name))\n",
    "\n",
    "                #save the crop amount in figures\n",
    "                figure_crop = CropSaveImage(file_name, 910, 200, 1124, 268)\n",
    "                figure_crop.save(r\"C:\\Users\\Lucky Abolorunke\\Desktop\\citi_folder\\figure_{}\".format(name))\n",
    "\n",
    "                #save the cropped of the amount in words\n",
    "                text_crop = CropSaveImage(file_name, 50, 245, 910, 302)\n",
    "                text_crop.save(r\"C:\\Users\\Lucky Abolorunke\\Desktop\\citi_folder\\text_{}\".format(name))\n",
    "        except:\n",
    "            pass\n",
    "    return True\n",
    "    "
   ]
  },
  {
   "cell_type": "code",
   "execution_count": null,
   "metadata": {},
   "outputs": [],
   "source": []
  },
  {
   "cell_type": "code",
   "execution_count": 437,
   "metadata": {},
   "outputs": [
    {
     "data": {
      "text/plain": [
       "True"
      ]
     },
     "execution_count": 437,
     "metadata": {},
     "output_type": "execute_result"
    }
   ],
   "source": [
    "SaveCrop(image_names, r\"images/{}\")\n"
   ]
  },
  {
   "cell_type": "code",
   "execution_count": 401,
   "metadata": {},
   "outputs": [],
   "source": [
    "def figure(string):\n",
    "    result = ''\n",
    "    for i in string:\n",
    "        if i in {'0', '1', '2', '3', '4', '5', '6', '7', '8', '9', '.'}:\n",
    "            result += i\n",
    "    try:\n",
    "        return '{0:.2f}'.format(float(result))\n",
    "    except:\n",
    "        return '-'"
   ]
  },
  {
   "cell_type": "code",
   "execution_count": 402,
   "metadata": {},
   "outputs": [],
   "source": [
    "# file_name should be open with r\"\" to avoid error code.\n",
    "def ReadImages(file_name):\n",
    "    file_name = file_name.format(name)\n",
    "    with io.open(file_name, 'rb') as imgx:\n",
    "        content = imgx.read()\n",
    "    image = vision.Image(content=content)\n",
    "\n",
    "    return image \n",
    "\n",
    "\n",
    "\n",
    "def ImageText(file_name, list_names):\n",
    "    result = []\n",
    "    client = vision.ImageAnnotatorClient()\n",
    "\n",
    "    for name in list_names:\n",
    "        x_file = file_name.format(name)\n",
    "        img = ReadImages(x_file)\n",
    "        response = client.document_text_detection(image=img)\n",
    "        doc = response.full_text_annotation.text\n",
    "        result.append(doc.replace('\\n', ' '))\n",
    "    return result     \n",
    "        \n",
    "def ImageFigure(file_name, list_names):\n",
    "    result = []\n",
    "    client = vision.ImageAnnotatorClient()\n",
    "\n",
    "    for name in list_names:\n",
    "        x_file = file_name.format(name)\n",
    "        img = ReadImages(x_file)\n",
    "        response = client.document_text_detection(image=img)\n",
    "        doc = response.full_text_annotation.text\n",
    "        result.append(figure(doc))        \n",
    "    return result     "
   ]
  },
  {
   "cell_type": "code",
   "execution_count": 403,
   "metadata": {},
   "outputs": [],
   "source": [
    "file_name = r\"C:\\Users\\Lucky Abolorunke\\Desktop\\citi_folder\\figure_{}\"\n",
    "fig_amount = ImageFigure(file_name, image_names)\n",
    "file_name = r\"C:\\Users\\Lucky Abolorunke\\Desktop\\citi_folder\\text_{}\"\n",
    "text_amount = ImageText(file_name, image_names)\n",
    "file_name = r\"C:\\Users\\Lucky Abolorunke\\Desktop\\citi_folder\\date_{}\"\n",
    "date =  ImageText(file_name, image_names)"
   ]
  },
  {
   "cell_type": "markdown",
   "metadata": {},
   "source": [
    "# Save files to CSV\n",
    "    "
   ]
  },
  {
   "cell_type": "code",
   "execution_count": 445,
   "metadata": {},
   "outputs": [],
   "source": [
    "# CREATE csv FILE for the train dataset\n",
    "diction =  {'Path': image_names,\n",
    "           'Date': date,\n",
    "           'Amount in word form': text_amount,\n",
    "           'Amount in number form': fig_amount}\n",
    "\n",
    "df = pd.DataFrame(diction)\n",
    "# df.tail(50)\n",
    "df.to_csv(r\"C:\\Users\\Lucky Abolorunke\\Desktop\\citi_folder\\finale\\train_df.csv\")"
   ]
  },
  {
   "cell_type": "code",
   "execution_count": null,
   "metadata": {},
   "outputs": [],
   "source": []
  },
  {
   "cell_type": "code",
   "execution_count": null,
   "metadata": {},
   "outputs": [],
   "source": []
  },
  {
   "cell_type": "code",
   "execution_count": 409,
   "metadata": {},
   "outputs": [
    {
     "data": {
      "text/plain": [
       "26"
      ]
     },
     "execution_count": 409,
     "metadata": {},
     "output_type": "execute_result"
    }
   ],
   "source": [
    "#\n",
    "\n",
    "validation_names = ['0429.jpg', '1800.jpg']\n",
    "\n",
    "\n",
    "for num in range(71, 91):\n",
    "    name = \"check_{}.png\".format(num)\n",
    "    validation_names.append(name) \n",
    "for num in range(41, 45):\n",
    "    name = \"image_{}.jpg\".format(num)\n",
    "    validation_names.append(name)\n",
    "len(validation_names) "
   ]
  },
  {
   "cell_type": "code",
   "execution_count": null,
   "metadata": {},
   "outputs": [],
   "source": []
  },
  {
   "cell_type": "code",
   "execution_count": 438,
   "metadata": {},
   "outputs": [
    {
     "data": {
      "text/plain": [
       "True"
      ]
     },
     "execution_count": 438,
     "metadata": {},
     "output_type": "execute_result"
    }
   ],
   "source": [
    "# crop files and save it to folder \n",
    "SaveCrop(validation_names, r\"validation/{}\")\n"
   ]
  },
  {
   "cell_type": "code",
   "execution_count": 439,
   "metadata": {},
   "outputs": [],
   "source": [
    "val_file_name = r\"C:\\Users\\Lucky Abolorunke\\Desktop\\citi_folder\\figure_{}\"\n",
    "val_fig_amount = ImageFigure(val_file_name, validation_names)\n",
    "val_file_name = r\"C:\\Users\\Lucky Abolorunke\\Desktop\\citi_folder\\text_{}\"\n",
    "val_text_amount = ImageText(val_file_name, validation_names)\n",
    "val_file_name = r\"C:\\Users\\Lucky Abolorunke\\Desktop\\citi_folder\\date_{}\"\n",
    "val_date =  ImageText(val_file_name, validation_names)"
   ]
  },
  {
   "cell_type": "code",
   "execution_count": 444,
   "metadata": {},
   "outputs": [],
   "source": [
    "# CREATE csv FILE for the test dataset\n",
    "diction =  {'Path': validation_names,\n",
    "           'Date': val_date,\n",
    "           'Amount in word form': val_text_amount,\n",
    "           'Amount in number form': val_fig_amount}\n",
    "\n",
    "test_df = pd.DataFrame(diction)\n",
    "test_df.to_csv(r\"C:\\Users\\Lucky Abolorunke\\Desktop\\citi_folder\\finale\\validation_df.csv\")"
   ]
  },
  {
   "cell_type": "markdown",
   "metadata": {},
   "source": [
    "# Validation DataFrame"
   ]
  },
  {
   "cell_type": "code",
   "execution_count": 450,
   "metadata": {},
   "outputs": [
    {
     "data": {
      "text/html": [
       "<div>\n",
       "<style scoped>\n",
       "    .dataframe tbody tr th:only-of-type {\n",
       "        vertical-align: middle;\n",
       "    }\n",
       "\n",
       "    .dataframe tbody tr th {\n",
       "        vertical-align: top;\n",
       "    }\n",
       "\n",
       "    .dataframe thead th {\n",
       "        text-align: right;\n",
       "    }\n",
       "</style>\n",
       "<table border=\"1\" class=\"dataframe\">\n",
       "  <thead>\n",
       "    <tr style=\"text-align: right;\">\n",
       "      <th></th>\n",
       "      <th>Path</th>\n",
       "      <th>Date</th>\n",
       "      <th>Amount in word form</th>\n",
       "      <th>Amount in number form</th>\n",
       "    </tr>\n",
       "  </thead>\n",
       "  <tbody>\n",
       "    <tr>\n",
       "      <th>0</th>\n",
       "      <td>0429.jpg</td>\n",
       "      <td></td>\n",
       "      <td></td>\n",
       "      <td>-</td>\n",
       "    </tr>\n",
       "    <tr>\n",
       "      <th>1</th>\n",
       "      <td>1800.jpg</td>\n",
       "      <td></td>\n",
       "      <td></td>\n",
       "      <td>-</td>\n",
       "    </tr>\n",
       "    <tr>\n",
       "      <th>2</th>\n",
       "      <td>check_71.png</td>\n",
       "      <td>3-26-52</td>\n",
       "      <td>five hundred and ninety-two</td>\n",
       "      <td>592.00</td>\n",
       "    </tr>\n",
       "    <tr>\n",
       "      <th>3</th>\n",
       "      <td>check_72.png</td>\n",
       "      <td>4-3-96</td>\n",
       "      <td>seven hundred and thirty-nine</td>\n",
       "      <td>0.00</td>\n",
       "    </tr>\n",
       "    <tr>\n",
       "      <th>4</th>\n",
       "      <td>check_73.png</td>\n",
       "      <td>카제</td>\n",
       "      <td>two hundred and three</td>\n",
       "      <td>-</td>\n",
       "    </tr>\n",
       "    <tr>\n",
       "      <th>5</th>\n",
       "      <td>check_74.png</td>\n",
       "      <td>レース2_211</td>\n",
       "      <td>seven million two hundred and twenty thousand</td>\n",
       "      <td>7220000.00</td>\n",
       "    </tr>\n",
       "    <tr>\n",
       "      <th>6</th>\n",
       "      <td>check_75.png</td>\n",
       "      <td>भी-52-3</td>\n",
       "      <td>one million thirty thousand</td>\n",
       "      <td>1030000.00</td>\n",
       "    </tr>\n",
       "    <tr>\n",
       "      <th>7</th>\n",
       "      <td>check_76.png</td>\n",
       "      <td>6-27-35</td>\n",
       "      <td>three hundred and seventy-three</td>\n",
       "      <td>378.00</td>\n",
       "    </tr>\n",
       "    <tr>\n",
       "      <th>8</th>\n",
       "      <td>check_77.png</td>\n",
       "      <td>7-104</td>\n",
       "      <td>two hundred and twenty-four</td>\n",
       "      <td>224.00</td>\n",
       "    </tr>\n",
       "    <tr>\n",
       "      <th>9</th>\n",
       "      <td>check_78.png</td>\n",
       "      <td>10-20 91</td>\n",
       "      <td>four hundred and twenty-seven</td>\n",
       "      <td>427.00</td>\n",
       "    </tr>\n",
       "    <tr>\n",
       "      <th>10</th>\n",
       "      <td>check_79.png</td>\n",
       "      <td>2-20 %</td>\n",
       "      <td>two million three hundred and eighty thousand</td>\n",
       "      <td>2380000.00</td>\n",
       "    </tr>\n",
       "    <tr>\n",
       "      <th>11</th>\n",
       "      <td>check_80.png</td>\n",
       "      <td>mt-2レーリ</td>\n",
       "      <td>five million four hundred and siity thousand</td>\n",
       "      <td>5460000.00</td>\n",
       "    </tr>\n",
       "    <tr>\n",
       "      <th>12</th>\n",
       "      <td>check_81.png</td>\n",
       "      <td>2-3</td>\n",
       "      <td>five millim nine hundred and sixty thousandl</td>\n",
       "      <td>-</td>\n",
       "    </tr>\n",
       "    <tr>\n",
       "      <th>13</th>\n",
       "      <td>check_82.png</td>\n",
       "      <td>ラー11ー21\"</td>\n",
       "      <td>seven hundred and fifteen</td>\n",
       "      <td>0.00</td>\n",
       "    </tr>\n",
       "    <tr>\n",
       "      <th>14</th>\n",
       "      <td>check_83.png</td>\n",
       "      <td>1ー16-38</td>\n",
       "      <td>seven hundred and eighty-six</td>\n",
       "      <td>-</td>\n",
       "    </tr>\n",
       "    <tr>\n",
       "      <th>15</th>\n",
       "      <td>check_84.png</td>\n",
       "      <td>1-23-5</td>\n",
       "      <td>one million four hundred and twenty thousand</td>\n",
       "      <td>1120000.00</td>\n",
       "    </tr>\n",
       "    <tr>\n",
       "      <th>16</th>\n",
       "      <td>check_85.png</td>\n",
       "      <td>Mー11ー16</td>\n",
       "      <td>four hundred and thirty-six</td>\n",
       "      <td>86.00</td>\n",
       "    </tr>\n",
       "    <tr>\n",
       "      <th>17</th>\n",
       "      <td>check_86.png</td>\n",
       "      <td>M-7-</td>\n",
       "      <td>five millionseven hundred and forty thousand</td>\n",
       "      <td>200000.00</td>\n",
       "    </tr>\n",
       "    <tr>\n",
       "      <th>18</th>\n",
       "      <td>check_87.png</td>\n",
       "      <td>19-9</td>\n",
       "      <td>two hundred and eighty-nine</td>\n",
       "      <td>-</td>\n",
       "    </tr>\n",
       "    <tr>\n",
       "      <th>19</th>\n",
       "      <td>check_88.png</td>\n",
       "      <td>--</td>\n",
       "      <td>five hundred and eighteen</td>\n",
       "      <td>518.00</td>\n",
       "    </tr>\n",
       "    <tr>\n",
       "      <th>20</th>\n",
       "      <td>check_89.png</td>\n",
       "      <td>2-27-gs</td>\n",
       "      <td>eight hundred and thirty thousand</td>\n",
       "      <td>20000.00</td>\n",
       "    </tr>\n",
       "    <tr>\n",
       "      <th>21</th>\n",
       "      <td>check_90.png</td>\n",
       "      <td>5</td>\n",
       "      <td>six hundred and forty</td>\n",
       "      <td>640.00</td>\n",
       "    </tr>\n",
       "    <tr>\n",
       "      <th>22</th>\n",
       "      <td>image_41.jpg</td>\n",
       "      <td>07-6 Data</td>\n",
       "      <td>Order of Ninety one only</td>\n",
       "      <td>-</td>\n",
       "    </tr>\n",
       "    <tr>\n",
       "      <th>23</th>\n",
       "      <td>image_42.jpg</td>\n",
       "      <td></td>\n",
       "      <td>roer ol FIFTY EIGHT ONLY</td>\n",
       "      <td>558.00</td>\n",
       "    </tr>\n",
       "    <tr>\n",
       "      <th>24</th>\n",
       "      <td>image_43.jpg</td>\n",
       "      <td>0.3</td>\n",
       "      <td>Order 01 FORTY NINE and 35/100 ONLY</td>\n",
       "      <td>641.35</td>\n",
       "    </tr>\n",
       "    <tr>\n",
       "      <th>25</th>\n",
       "      <td>image_44.jpg</td>\n",
       "      <td>10-</td>\n",
       "      <td>Order of Sixty two and 37/100 only</td>\n",
       "      <td>237.00</td>\n",
       "    </tr>\n",
       "  </tbody>\n",
       "</table>\n",
       "</div>"
      ],
      "text/plain": [
       "            Path        Date                             Amount in word form  \\\n",
       "0       0429.jpg                                                               \n",
       "1       1800.jpg                                                               \n",
       "2   check_71.png    3-26-52                     five hundred and ninety-two    \n",
       "3   check_72.png     4-3-96                   seven hundred and thirty-nine    \n",
       "4   check_73.png         카제                           two hundred and three    \n",
       "5   check_74.png   レース2_211   seven million two hundred and twenty thousand    \n",
       "6   check_75.png    भी-52-3                     one million thirty thousand    \n",
       "7   check_76.png    6-27-35                 three hundred and seventy-three    \n",
       "8   check_77.png      7-104                     two hundred and twenty-four    \n",
       "9   check_78.png   10-20 91                   four hundred and twenty-seven    \n",
       "10  check_79.png     2-20 %   two million three hundred and eighty thousand    \n",
       "11  check_80.png    mt-2レーリ    five million four hundred and siity thousand    \n",
       "12  check_81.png        2-3    five millim nine hundred and sixty thousandl    \n",
       "13  check_82.png   ラー11ー21\"                       seven hundred and fifteen    \n",
       "14  check_83.png    1ー16-38                    seven hundred and eighty-six    \n",
       "15  check_84.png     1-23-5    one million four hundred and twenty thousand    \n",
       "16  check_85.png    Mー11ー16                     four hundred and thirty-six    \n",
       "17  check_86.png       M-7-    five millionseven hundred and forty thousand    \n",
       "18  check_87.png       19-9                     two hundred and eighty-nine    \n",
       "19  check_88.png         --                       five hundred and eighteen    \n",
       "20  check_89.png    2-27-gs               eight hundred and thirty thousand    \n",
       "21  check_90.png          5                           six hundred and forty    \n",
       "22  image_41.jpg  07-6 Data                        Order of Ninety one only    \n",
       "23  image_42.jpg                                   roer ol FIFTY EIGHT ONLY    \n",
       "24  image_43.jpg        0.3             Order 01 FORTY NINE and 35/100 ONLY    \n",
       "25  image_44.jpg        10-              Order of Sixty two and 37/100 only    \n",
       "\n",
       "   Amount in number form  \n",
       "0                      -  \n",
       "1                      -  \n",
       "2                 592.00  \n",
       "3                   0.00  \n",
       "4                      -  \n",
       "5             7220000.00  \n",
       "6             1030000.00  \n",
       "7                 378.00  \n",
       "8                 224.00  \n",
       "9                 427.00  \n",
       "10            2380000.00  \n",
       "11            5460000.00  \n",
       "12                     -  \n",
       "13                  0.00  \n",
       "14                     -  \n",
       "15            1120000.00  \n",
       "16                 86.00  \n",
       "17             200000.00  \n",
       "18                     -  \n",
       "19                518.00  \n",
       "20              20000.00  \n",
       "21                640.00  \n",
       "22                     -  \n",
       "23                558.00  \n",
       "24                641.35  \n",
       "25                237.00  "
      ]
     },
     "execution_count": 450,
     "metadata": {},
     "output_type": "execute_result"
    }
   ],
   "source": [
    "test_df"
   ]
  },
  {
   "cell_type": "code",
   "execution_count": null,
   "metadata": {},
   "outputs": [],
   "source": []
  }
 ],
 "metadata": {
  "kernelspec": {
   "display_name": "Python 3",
   "language": "python",
   "name": "python3"
  },
  "language_info": {
   "codemirror_mode": {
    "name": "ipython",
    "version": 3
   },
   "file_extension": ".py",
   "mimetype": "text/x-python",
   "name": "python",
   "nbconvert_exporter": "python",
   "pygments_lexer": "ipython3",
   "version": "3.8.5"
  }
 },
 "nbformat": 4,
 "nbformat_minor": 4
}
